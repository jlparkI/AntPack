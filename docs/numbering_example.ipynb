{
 "cells": [
  {
   "cell_type": "markdown",
   "id": "c8deb308-797f-4146-90a8-625143362d41",
   "metadata": {},
   "source": [
    "### Sequence numbering\n",
    "In this notebook, we illustrate how to use the SingleChainAnnotator tool to determine\n",
    "whether a sequence is heavy or light (lambda, kappa) chain and number it. We next demonstrate\n",
    "how to use the PairedChainAnnotator, which can be used if your data is paired or single\n",
    "chains (but in general if you know your data is single chain prefer SingleChainAnnotator).\n",
    "\n",
    "We also illustrate\n",
    "how to use AntPack to extract specific CDRs or framework regions and how to merge numbering\n",
    "for antibody sequences of different lengths so that you can write your sequences to a csv file\n",
    "as an MSA or encode them as a fixed-length array for ML."
   ]
  },
  {
   "cell_type": "code",
   "execution_count": 1,
   "id": "474077a3-7d7d-46e8-8698-5dcd8b4c9ead",
   "metadata": {},
   "outputs": [],
   "source": [
    "from antpack import SingleChainAnnotator, PairedChainAnnotator\n",
    "\n",
    "my_sequence = \"AAAAAAAEVHLQQSGAELMKPGASVKISCKASGYTFITYWIEWVKQRPGHGLEWIGDILPGSGSTNYNENFKGKATFTADSSSNTAYMQLSSLTSEDSAVYYCARSGYYGNSGFAYWGQGTLVTVSA\"\n",
    "\n",
    "additional_sequences = [\"EVQLVQSGAEVKKPGESLKISCKGSGYSFTSYWIGWVRQMPGKGLEWMGIIYPGDSDTRYSPSFQGQVTISADKSISTAYLQWSSLKASDTAMYYCARPHYYDSLDAFDIWGQGTMVTVSS\",\n",
    "                        \"ITLKESGPTLVKPTQTLTLTCTFSGFSLSTSGMGVSWIRQPPGKALEWLAHIYWDDDKRYNPSLKSRLTITKDTSKNQVVLTMTNMDPVDTATYYCARLYGFTYGFAYWGQGTLVTVSS\",\n",
    "                        \"EVKLQESGPGKLQPSQTLSLTCSFSGFSLTTSGIGVGWIRQPSGKGLEWLAHIWWSASKYYNTALKSRLTISKDTSNNQVFLKIASVDTADTATYYCARAYYGNYGGYYFDYWGQGTTLTVSS\"]\n",
    "light_chain = \"DIELTQSPASLSASVGETVTITCQASENIYSYLAWHQQKQGKSPQLLVYNAKTLAGGVSSRFSGSGSGTHFSLKIKSLQPEDFGIYYCQHHYGILPTFGGGTKLEIK\"\n",
    "\n",
    "# Let's make up a paired chain sequence by merging a heavy and light chain with a fairly arbitrary spacer between them.\n",
    "paired_chain = \"\".join( [my_sequence, \"GGGGGGGG\", light_chain] )"
   ]
  },
  {
   "cell_type": "markdown",
   "id": "e79b99e1-74cd-4ec4-a10b-ba5a07a34953",
   "metadata": {},
   "source": [
    "First, let's use SingleChainAnnotator to process sequences that likely only contain a single chain.\n",
    "\n",
    "By passing [\"H\", \"K\", \"L\"] (the default) we ensure the annotator will align each sequence to\n",
    "heavy, kappa and lambda (kappa and lambda are different variants of light chains)\n",
    "and will determine the type of the chain based on which option returns the best\n",
    "alignment. If we KNOW our chains are all \"H\", we could pass \"H\" as the only\n",
    "option, and this will improve speed slightly. In general however this isn't\n",
    "necessary.\n",
    "\n",
    "If we wanted to look at TCRs we could pass [\"A\", \"D\", \"B\", \"G\"] (in any order) instead."
   ]
  },
  {
   "cell_type": "code",
   "execution_count": 2,
   "id": "27f2061e-6a23-4272-adcc-ba45694ad58e",
   "metadata": {},
   "outputs": [],
   "source": [
    "sc_annotator = SingleChainAnnotator([\"H\", \"K\", \"L\"], scheme = \"imgt\")"
   ]
  },
  {
   "cell_type": "code",
   "execution_count": 3,
   "id": "afb4cedb-dd26-48a3-a5b3-b342d061ac60",
   "metadata": {},
   "outputs": [],
   "source": [
    "numbering, percent_identity, chain_type, err_message = sc_annotator.analyze_seq(my_sequence)"
   ]
  },
  {
   "cell_type": "markdown",
   "id": "a8f26b83-34dc-4ca8-8a20-cd430542a3da",
   "metadata": {},
   "source": [
    "The numbering is a list of the same length as the input sequence where each element is either\n",
    "\"-\" (a gap, meaning there's no numbering assignment that corresponds to that amino acid or\n",
    "a numbering assignment."
   ]
  },
  {
   "cell_type": "code",
   "execution_count": 4,
   "id": "c7aa9045-93c7-4cdc-a407-85c290913781",
   "metadata": {},
   "outputs": [
    {
     "name": "stdout",
     "output_type": "stream",
     "text": [
      "['-', '-', '-', '-', '-', '-', '-', '1', '2', '3', '4', '5', '6', '7', '8', '9', '11', '12', '13', '14', '15', '16', '17', '18', '19', '20', '21', '22', '23', '24', '25', '26', '27', '28', '29', '30', '35', '36', '37', '38', '39', '40', '41', '42', '43', '44', '45', '46', '47', '48', '49', '50', '51', '52', '53', '54', '55', '56', '57', '58', '59', '62', '63', '64', '65', '66', '67', '68', '69', '70', '71', '72', '74', '75', '76', '77', '78', '79', '80', '81', '82', '83', '84', '85', '86', '87', '88', '89', '90', '91', '92', '93', '94', '95', '96', '97', '98', '99', '100', '101', '102', '103', '104', '105', '106', '107', '108', '109', '110', '111', '112', '113', '114', '115', '116', '117', '118', '119', '120', '121', '122', '123', '124', '125', '126', '127', '128']\n",
      "\n",
      "\n",
      "AAAAAAAEVHLQQSGAELMKPGASVKISCKASGYTFITYWIEWVKQRPGHGLEWIGDILPGSGSTNYNENFKGKATFTADSSSNTAYMQLSSLTSEDSAVYYCARSGYYGNSGFAYWGQGTLVTVSA\n",
      "\n",
      "\n",
      "[('-', 'A'), ('-', 'A'), ('-', 'A'), ('-', 'A'), ('-', 'A'), ('-', 'A'), ('-', 'A'), ('1', 'E'), ('2', 'V'), ('3', 'H'), ('4', 'L'), ('5', 'Q'), ('6', 'Q'), ('7', 'S'), ('8', 'G'), ('9', 'A'), ('11', 'E'), ('12', 'L'), ('13', 'M'), ('14', 'K'), ('15', 'P'), ('16', 'G'), ('17', 'A'), ('18', 'S'), ('19', 'V'), ('20', 'K'), ('21', 'I'), ('22', 'S'), ('23', 'C'), ('24', 'K'), ('25', 'A'), ('26', 'S'), ('27', 'G'), ('28', 'Y'), ('29', 'T'), ('30', 'F'), ('35', 'I'), ('36', 'T'), ('37', 'Y'), ('38', 'W'), ('39', 'I'), ('40', 'E'), ('41', 'W'), ('42', 'V'), ('43', 'K'), ('44', 'Q'), ('45', 'R'), ('46', 'P'), ('47', 'G'), ('48', 'H'), ('49', 'G'), ('50', 'L'), ('51', 'E'), ('52', 'W'), ('53', 'I'), ('54', 'G'), ('55', 'D'), ('56', 'I'), ('57', 'L'), ('58', 'P'), ('59', 'G'), ('62', 'S'), ('63', 'G'), ('64', 'S'), ('65', 'T'), ('66', 'N'), ('67', 'Y'), ('68', 'N'), ('69', 'E'), ('70', 'N'), ('71', 'F'), ('72', 'K'), ('74', 'G'), ('75', 'K'), ('76', 'A'), ('77', 'T'), ('78', 'F'), ('79', 'T'), ('80', 'A'), ('81', 'D'), ('82', 'S'), ('83', 'S'), ('84', 'S'), ('85', 'N'), ('86', 'T'), ('87', 'A'), ('88', 'Y'), ('89', 'M'), ('90', 'Q'), ('91', 'L'), ('92', 'S'), ('93', 'S'), ('94', 'L'), ('95', 'T'), ('96', 'S'), ('97', 'E'), ('98', 'D'), ('99', 'S'), ('100', 'A'), ('101', 'V'), ('102', 'Y'), ('103', 'Y'), ('104', 'C'), ('105', 'A'), ('106', 'R'), ('107', 'S'), ('108', 'G'), ('109', 'Y'), ('110', 'Y'), ('111', 'G'), ('112', 'N'), ('113', 'S'), ('114', 'G'), ('115', 'F'), ('116', 'A'), ('117', 'Y'), ('118', 'W'), ('119', 'G'), ('120', 'Q'), ('121', 'G'), ('122', 'T'), ('123', 'L'), ('124', 'V'), ('125', 'T'), ('126', 'V'), ('127', 'S'), ('128', 'A')]\n"
     ]
    }
   ],
   "source": [
    "print(f\"{numbering}\\n\\n\")\n",
    "print(f\"{my_sequence}\\n\\n\")\n",
    "print([(a, z) for a, z in zip(numbering, my_sequence)])"
   ]
  },
  {
   "cell_type": "code",
   "execution_count": null,
   "id": "73614790-bdc7-4283-996a-207ddc815388",
   "metadata": {},
   "outputs": [],
   "source": []
  },
  {
   "cell_type": "markdown",
   "id": "685421fb-defb-4cce-84e0-3ab916d0ed6b",
   "metadata": {},
   "source": [
    "If we want to get just the part of the numbering that corresponds to the numbered region with c- and n-terminal nonnumbered regions removed, we can use trim_alignment, which returns the trimmed sequence, the trimmed numbering, and the start and end of the extracted region.\n",
    "trim_alignment expects a tuple -- the tuple that is returned by analyze_seq for instance."
   ]
  },
  {
   "cell_type": "code",
   "execution_count": 5,
   "id": "5dc4fe95-7f1b-48f7-992a-4296305469db",
   "metadata": {},
   "outputs": [
    {
     "data": {
      "text/plain": [
       "'EVHLQQSGAELMKPGASVKISCKASGYTFITYWIEWVKQRPGHGLEWIGDILPGSGSTNYNENFKGKATFTADSSSNTAYMQLSSLTSEDSAVYYCARSGYYGNSGFAYWGQGTLVTVSA'"
      ]
     },
     "execution_count": 5,
     "metadata": {},
     "output_type": "execute_result"
    }
   ],
   "source": [
    "my_sequence[7:127]"
   ]
  },
  {
   "cell_type": "code",
   "execution_count": 6,
   "id": "58d018f4-0c40-4509-af6a-1c52a71271a1",
   "metadata": {},
   "outputs": [],
   "source": [
    "alignment = (numbering, percent_identity, chain_type, err_message)"
   ]
  },
  {
   "cell_type": "code",
   "execution_count": 7,
   "id": "4b3fd96f-68c4-4abd-bb76-6e08baf71451",
   "metadata": {},
   "outputs": [
    {
     "name": "stdout",
     "output_type": "stream",
     "text": [
      "('EVHLQQSGAELMKPGASVKISCKASGYTFITYWIEWVKQRPGHGLEWIGDILPGSGSTNYNENFKGKATFTADSSSNTAYMQLSSLTSEDSAVYYCARSGYYGNSGFAYWGQGTLVTVSA', ['1', '2', '3', '4', '5', '6', '7', '8', '9', '11', '12', '13', '14', '15', '16', '17', '18', '19', '20', '21', '22', '23', '24', '25', '26', '27', '28', '29', '30', '35', '36', '37', '38', '39', '40', '41', '42', '43', '44', '45', '46', '47', '48', '49', '50', '51', '52', '53', '54', '55', '56', '57', '58', '59', '62', '63', '64', '65', '66', '67', '68', '69', '70', '71', '72', '74', '75', '76', '77', '78', '79', '80', '81', '82', '83', '84', '85', '86', '87', '88', '89', '90', '91', '92', '93', '94', '95', '96', '97', '98', '99', '100', '101', '102', '103', '104', '105', '106', '107', '108', '109', '110', '111', '112', '113', '114', '115', '116', '117', '118', '119', '120', '121', '122', '123', '124', '125', '126', '127', '128'], 7, 127)\n"
     ]
    }
   ],
   "source": [
    "print(sc_annotator.trim_alignment(my_sequence, alignment))"
   ]
  },
  {
   "cell_type": "markdown",
   "id": "b439b854-2f93-4bd2-beee-573b3dcd1abe",
   "metadata": {},
   "source": [
    "SingleChainAnnotator determined this was a heavy chain (\"H\"). \"K\" and \"L\" both correspond to light\n",
    "chains (kappa and lambda)."
   ]
  },
  {
   "cell_type": "code",
   "execution_count": 8,
   "id": "a0c46026-021e-4ebf-aaef-87327932ff23",
   "metadata": {},
   "outputs": [
    {
     "name": "stdout",
     "output_type": "stream",
     "text": [
      "H\n"
     ]
    }
   ],
   "source": [
    "print(chain_type)"
   ]
  },
  {
   "cell_type": "markdown",
   "id": "457d00d6-dc85-4c32-bab2-0fe0931b8c34",
   "metadata": {},
   "source": [
    "A low percent identity (<< 0.8) could mean this isn't an antibody sequence, contains large\n",
    "deletions, or some other issue."
   ]
  },
  {
   "cell_type": "code",
   "execution_count": 9,
   "id": "fb64bbf5-97a0-4bd9-8f08-ab85150ecb56",
   "metadata": {},
   "outputs": [
    {
     "name": "stdout",
     "output_type": "stream",
     "text": [
      "0.9659090909090909\n"
     ]
    }
   ],
   "source": [
    "print(percent_identity)"
   ]
  },
  {
   "cell_type": "markdown",
   "id": "10bd7604-7dd8-4dc5-acf8-ec56f090b114",
   "metadata": {},
   "source": [
    "Finally, if the error message is anything other than \"\", something went wrong. Sometimes\n",
    "this is something minor, sometimes it's not. The most common\n",
    "error message indicates an unexpected amino acid was found at a highly conserved position --\n",
    "this can occur if there is a very large N or C terminal deletion, which may be a problem.\n",
    "It can also occur because the highly conserved F / W G x G motif in the J-gene region is\n",
    "occasionally (rarely) modified, which is a less serious issue."
   ]
  },
  {
   "cell_type": "code",
   "execution_count": 10,
   "id": "d2c98c9c-153e-4d9f-8244-e7e7cf8f83a8",
   "metadata": {},
   "outputs": [
    {
     "name": "stdout",
     "output_type": "stream",
     "text": [
      "\n"
     ]
    }
   ],
   "source": [
    "print(err_message)"
   ]
  },
  {
   "cell_type": "markdown",
   "id": "1a264c8f-cb5c-4b13-9853-285188a13702",
   "metadata": {},
   "source": [
    "Note that above we used ``analyze_seq`` to analyze a single sequence. If we have a list\n",
    "of sequences we can use ``analyze_seqs``, or we can loop over our list and feed each\n",
    "sequence to ``analyze_seq`` as we go.\n",
    "\n",
    "Once we have the numbering, we can use it to extract CDRs using the CDR definitions for\n",
    "an appropriate numbering scheme. Alternatively, we can ask AntPack to tell us what\n",
    "the CDR and framework regions are for that scheme at the same time that we number the\n",
    "sequence. To do so, we just pass the numbering (the first element of ``alignment``)\n",
    "and the chain (the third element of ``alignment``) to ``assign_cdr_labels``, which returns a list\n",
    "which indicates for each numbered position whether it is \"-\", \"fmwk1\", \"cdr1\", \"fmwk2\", \"cdr2\",\n",
    "\"fmwk3\", \"cdr3\", or \"fmwk4\".\n",
    "\n",
    "An example is below:"
   ]
  },
  {
   "cell_type": "code",
   "execution_count": 11,
   "id": "685105d2-97f1-4c46-aa47-8c068613753e",
   "metadata": {},
   "outputs": [
    {
     "name": "stdout",
     "output_type": "stream",
     "text": [
      "['-', '-', '-', '-', '-', '-', '-', 'fmwk1', 'fmwk1', 'fmwk1', 'fmwk1', 'fmwk1', 'fmwk1', 'fmwk1', 'fmwk1', 'fmwk1', 'fmwk1', 'fmwk1', 'fmwk1', 'fmwk1', 'fmwk1', 'fmwk1', 'fmwk1', 'fmwk1', 'fmwk1', 'fmwk1', 'fmwk1', 'fmwk1', 'fmwk1', 'fmwk1', 'fmwk1', 'fmwk1', 'cdr1', 'cdr1', 'cdr1', 'cdr1', 'cdr1', 'cdr1', 'cdr1', 'cdr1', 'fmwk2', 'fmwk2', 'fmwk2', 'fmwk2', 'fmwk2', 'fmwk2', 'fmwk2', 'fmwk2', 'fmwk2', 'fmwk2', 'fmwk2', 'fmwk2', 'fmwk2', 'fmwk2', 'fmwk2', 'fmwk2', 'fmwk2', 'cdr2', 'cdr2', 'cdr2', 'cdr2', 'cdr2', 'cdr2', 'cdr2', 'cdr2', 'fmwk3', 'fmwk3', 'fmwk3', 'fmwk3', 'fmwk3', 'fmwk3', 'fmwk3', 'fmwk3', 'fmwk3', 'fmwk3', 'fmwk3', 'fmwk3', 'fmwk3', 'fmwk3', 'fmwk3', 'fmwk3', 'fmwk3', 'fmwk3', 'fmwk3', 'fmwk3', 'fmwk3', 'fmwk3', 'fmwk3', 'fmwk3', 'fmwk3', 'fmwk3', 'fmwk3', 'fmwk3', 'fmwk3', 'fmwk3', 'fmwk3', 'fmwk3', 'fmwk3', 'fmwk3', 'fmwk3', 'fmwk3', 'fmwk3', 'fmwk3', 'cdr3', 'cdr3', 'cdr3', 'cdr3', 'cdr3', 'cdr3', 'cdr3', 'cdr3', 'cdr3', 'cdr3', 'cdr3', 'cdr3', 'cdr3', 'fmwk4', 'fmwk4', 'fmwk4', 'fmwk4', 'fmwk4', 'fmwk4', 'fmwk4', 'fmwk4', 'fmwk4', 'fmwk4', 'fmwk4']\n"
     ]
    }
   ],
   "source": [
    "region_labels = sc_annotator.assign_cdr_labels(alignment[0], alignment[2])\n",
    "print(region_labels)"
   ]
  },
  {
   "cell_type": "markdown",
   "id": "714f0470-ba4f-4081-abab-4ce294af59f5",
   "metadata": {},
   "source": [
    "In some cases, you may want to number using one scheme, e.g. IMGT, but use a set of CDR definitions from a different\n",
    "scheme, e.g. Kabat. To do this you can pass a third argument ``scheme`` to ``assign_cdr_labels``. This argument\n",
    "is the scheme whose cdr definitions you would like to use. You can pass ``north``, ``kabat``, ``imgt``, ``aho``,\n",
    "or ``martin``. If you leave this argument blank, the definitions used are the ones for the scheme that was used\n",
    "to number the sequence (so if you created SingleChainAnnotator with scheme ``imgt`` and don't pass a ``scheme``\n",
    "argument to ``assign_cdr_labels``, it keeps using IMGT definitions for the CDR labels as well)."
   ]
  },
  {
   "cell_type": "code",
   "execution_count": 12,
   "id": "a16878b6-fd64-4f8b-917d-f8a460391cdd",
   "metadata": {},
   "outputs": [
    {
     "name": "stdout",
     "output_type": "stream",
     "text": [
      "['-', '-', '-', '-', '-', '-', '-', 'fmwk1', 'fmwk1', 'fmwk1', 'fmwk1', 'fmwk1', 'fmwk1', 'fmwk1', 'fmwk1', 'fmwk1', 'fmwk1', 'fmwk1', 'fmwk1', 'fmwk1', 'fmwk1', 'fmwk1', 'fmwk1', 'fmwk1', 'fmwk1', 'fmwk1', 'fmwk1', 'fmwk1', 'fmwk1', 'cdr1', 'cdr1', 'cdr1', 'cdr1', 'cdr1', 'cdr1', 'cdr1', 'cdr1', 'cdr1', 'cdr1', 'cdr1', 'cdr1', 'cdr1', 'fmwk2', 'fmwk2', 'fmwk2', 'fmwk2', 'fmwk2', 'fmwk2', 'fmwk2', 'fmwk2', 'fmwk2', 'fmwk2', 'fmwk2', 'fmwk2', 'fmwk2', 'fmwk2', 'cdr2', 'cdr2', 'cdr2', 'cdr2', 'cdr2', 'cdr2', 'cdr2', 'cdr2', 'cdr2', 'cdr2', 'fmwk3', 'fmwk3', 'fmwk3', 'fmwk3', 'fmwk3', 'fmwk3', 'fmwk3', 'fmwk3', 'fmwk3', 'fmwk3', 'fmwk3', 'fmwk3', 'fmwk3', 'fmwk3', 'fmwk3', 'fmwk3', 'fmwk3', 'fmwk3', 'fmwk3', 'fmwk3', 'fmwk3', 'fmwk3', 'fmwk3', 'fmwk3', 'fmwk3', 'fmwk3', 'fmwk3', 'fmwk3', 'fmwk3', 'fmwk3', 'fmwk3', 'fmwk3', 'fmwk3', 'fmwk3', 'fmwk3', 'fmwk3', 'fmwk3', 'cdr3', 'cdr3', 'cdr3', 'cdr3', 'cdr3', 'cdr3', 'cdr3', 'cdr3', 'cdr3', 'cdr3', 'cdr3', 'cdr3', 'cdr3', 'fmwk4', 'fmwk4', 'fmwk4', 'fmwk4', 'fmwk4', 'fmwk4', 'fmwk4', 'fmwk4', 'fmwk4', 'fmwk4', 'fmwk4']\n"
     ]
    }
   ],
   "source": [
    "region_labels = sc_annotator.assign_cdr_labels(alignment[0], alignment[2], scheme=\"north\")\n",
    "print(region_labels)"
   ]
  },
  {
   "cell_type": "markdown",
   "id": "96ced477-4c7b-4667-8a07-84a55e0ea59b",
   "metadata": {},
   "source": [
    "Notice that the list ``region_labels`` is the same length as ``my_sequence`` or as ``numbering``. This provides\n",
    "an easy way to extract a specific cdr or framework if desired."
   ]
  },
  {
   "cell_type": "code",
   "execution_count": null,
   "id": "dced1b49-1681-464e-95c9-ca692a51dcd3",
   "metadata": {},
   "outputs": [],
   "source": []
  },
  {
   "cell_type": "markdown",
   "id": "6d12ac97-caec-4e75-be8a-644bb7a37185",
   "metadata": {},
   "source": [
    "Now let's see how we can use PairedChainAnnotator to number a sequence that contains a paired heavy chain and light\n",
    "chain (in any order). Note that using SingleChainAnnotator will always be faster, because it can afford to make\n",
    "some additional assumptions. We can use PairedChainAnnotator on single chains but this is less efficient.\n",
    "\n",
    "If you want to use PairedChainAnnotator to look at TCRs, pass the argument ``receptor_type=\"tcr\"`` when constructing it."
   ]
  },
  {
   "cell_type": "code",
   "execution_count": 13,
   "id": "ae51f316-ba02-4d4b-b305-95a1a60e2b55",
   "metadata": {},
   "outputs": [],
   "source": [
    "pc_annotator = PairedChainAnnotator(scheme = \"imgt\")"
   ]
  },
  {
   "cell_type": "code",
   "execution_count": 14,
   "id": "650f36e8-888d-4215-9ed8-7164b986b7c8",
   "metadata": {},
   "outputs": [
    {
     "name": "stdout",
     "output_type": "stream",
     "text": [
      "((['-', '-', '-', '-', '-', '-', '-', '1', '2', '3', '4', '5', '6', '7', '8', '9', '11', '12', '13', '14', '15', '16', '17', '18', '19', '20', '21', '22', '23', '24', '25', '26', '27', '28', '29', '30', '35', '36', '37', '38', '39', '40', '41', '42', '43', '44', '45', '46', '47', '48', '49', '50', '51', '52', '53', '54', '55', '56', '57', '58', '59', '62', '63', '64', '65', '66', '67', '68', '69', '70', '71', '72', '74', '75', '76', '77', '78', '79', '80', '81', '82', '83', '84', '85', '86', '87', '88', '89', '90', '91', '92', '93', '94', '95', '96', '97', '98', '99', '100', '101', '102', '103', '104', '105', '106', '107', '108', '109', '110', '111', '112', '113', '114', '115', '116', '117', '118', '119', '120', '121', '122', '123', '124', '125', '126', '127', '128', '-', '-', '-', '-', '-', '-', '-', '-', '-', '-', '-', '-', '-', '-', '-', '-', '-', '-', '-', '-', '-', '-', '-', '-', '-', '-', '-', '-', '-', '-', '-', '-', '-', '-', '-', '-', '-', '-', '-', '-', '-', '-', '-', '-', '-', '-', '-', '-', '-', '-', '-', '-', '-', '-', '-', '-', '-', '-', '-', '-', '-', '-', '-', '-', '-', '-', '-', '-', '-', '-', '-', '-', '-', '-', '-', '-', '-', '-', '-', '-', '-', '-', '-', '-', '-', '-', '-', '-', '-', '-', '-', '-', '-', '-', '-', '-', '-', '-', '-', '-', '-', '-', '-', '-', '-', '-', '-', '-', '-', '-', '-', '-', '-', '-', '-'], 0.9659090909090909, 'H', ''), (['-', '-', '-', '-', '-', '-', '-', '-', '-', '-', '-', '-', '-', '-', '-', '-', '-', '-', '-', '-', '-', '-', '-', '-', '-', '-', '-', '-', '-', '-', '-', '-', '-', '-', '-', '-', '-', '-', '-', '-', '-', '-', '-', '-', '-', '-', '-', '-', '-', '-', '-', '-', '-', '-', '-', '-', '-', '-', '-', '-', '-', '-', '-', '-', '-', '-', '-', '-', '-', '-', '-', '-', '-', '-', '-', '-', '-', '-', '-', '-', '-', '-', '-', '-', '-', '-', '-', '-', '-', '-', '-', '-', '-', '-', '-', '-', '-', '-', '-', '-', '-', '-', '-', '-', '-', '-', '-', '-', '-', '-', '-', '-', '-', '-', '-', '-', '-', '-', '-', '-', '-', '-', '-', '-', '-', '-', '-', '-', '-', '-', '-', '-', '-', '-', '-', '1', '2', '3', '4', '5', '6', '7', '8', '9', '10', '11', '12', '13', '14', '15', '16', '17', '18', '19', '20', '21', '22', '23', '24', '25', '26', '27', '28', '29', '36', '37', '38', '39', '40', '41', '42', '43', '44', '45', '46', '47', '48', '49', '50', '51', '52', '53', '54', '55', '56', '57', '65', '66', '67', '68', '69', '70', '71', '72', '74', '75', '76', '77', '78', '79', '80', '83', '84', '85', '86', '87', '88', '89', '90', '91', '92', '93', '94', '95', '96', '97', '98', '99', '100', '101', '102', '103', '104', '105', '106', '107', '108', '109', '114', '115', '116', '117', '118', '119', '120', '121', '122', '123', '124', '125', '126', '127'], 0.945054945054945, 'K', ''))\n"
     ]
    }
   ],
   "source": [
    "print(pc_annotator.analyze_seq(paired_chain))"
   ]
  },
  {
   "cell_type": "markdown",
   "id": "f290f9bf-35b5-4d3b-a99e-a551773d2298",
   "metadata": {},
   "source": [
    "Notice that PairedChainAnnotator returns one annotation for the heavy chain and one for the light. The heavy is always returned first,\n",
    "the light second, regardless of what order they appeared in the sequence. All of the information that is returned is the same as for SingleChainAnnotator. Since the numbering for the heavy and light chain is the same length as the original sequence, it can often be\n",
    "useful to pass each output to `pc_annotator.trim_alignment` as illustrated below.\n",
    "\n",
    "Also notice that just as for SingleChainAnnotator, we can call ``analyze_seqs`` for ``PairedChainAnnotator`` if we have a list\n",
    "of input sequences. In this case, it will return two lists, one of the heavy chain alignments and one of the light."
   ]
  },
  {
   "cell_type": "code",
   "execution_count": 15,
   "id": "402be107-3067-48cf-8ba9-8516900779f7",
   "metadata": {},
   "outputs": [
    {
     "name": "stdout",
     "output_type": "stream",
     "text": [
      "('EVHLQQSGAELMKPGASVKISCKASGYTFITYWIEWVKQRPGHGLEWIGDILPGSGSTNYNENFKGKATFTADSSSNTAYMQLSSLTSEDSAVYYCARSGYYGNSGFAYWGQGTLVTVSA', ['1', '2', '3', '4', '5', '6', '7', '8', '9', '11', '12', '13', '14', '15', '16', '17', '18', '19', '20', '21', '22', '23', '24', '25', '26', '27', '28', '29', '30', '35', '36', '37', '38', '39', '40', '41', '42', '43', '44', '45', '46', '47', '48', '49', '50', '51', '52', '53', '54', '55', '56', '57', '58', '59', '62', '63', '64', '65', '66', '67', '68', '69', '70', '71', '72', '74', '75', '76', '77', '78', '79', '80', '81', '82', '83', '84', '85', '86', '87', '88', '89', '90', '91', '92', '93', '94', '95', '96', '97', '98', '99', '100', '101', '102', '103', '104', '105', '106', '107', '108', '109', '110', '111', '112', '113', '114', '115', '116', '117', '118', '119', '120', '121', '122', '123', '124', '125', '126', '127', '128'], 7, 127)\n"
     ]
    }
   ],
   "source": [
    "halignment, _ = pc_annotator.analyze_seq(paired_chain)\n",
    "print(pc_annotator.trim_alignment(paired_chain, halignment))"
   ]
  },
  {
   "cell_type": "code",
   "execution_count": null,
   "id": "b55aead2-ad25-4f92-8954-e3bcaa647adc",
   "metadata": {},
   "outputs": [],
   "source": []
  },
  {
   "cell_type": "markdown",
   "id": "f84eb840-05b3-46e8-ba3d-c9e00d3f7736",
   "metadata": {},
   "source": [
    "We can also use PairedChainAnnotator on single chains. It will still return two results. Your clue that\n",
    "only one chain is present will be a low percent identity or an error message for one of the two chains.\n",
    "This is less efficient than SingleChainAnnotator so prefer SCA if you know you have only one chain. Notice\n",
    "below that when we feed in a heavy chain pc_annotator returns an error (which may vary) for the light chain.\n",
    "Low percent identity (e.g. < 0.75) is another strong indicator."
   ]
  },
  {
   "cell_type": "code",
   "execution_count": 16,
   "id": "323ee2b0-6050-4519-b839-346aa2f9b9a6",
   "metadata": {},
   "outputs": [
    {
     "name": "stdout",
     "output_type": "stream",
     "text": [
      "((['-', '-', '-', '-', '-', '-', '-', '1', '2', '3', '4', '5', '6', '7', '8', '9', '11', '12', '13', '14', '15', '16', '17', '18', '19', '20', '21', '22', '23', '24', '25', '26', '27', '28', '29', '30', '35', '36', '37', '38', '39', '40', '41', '42', '43', '44', '45', '46', '47', '48', '49', '50', '51', '52', '53', '54', '55', '56', '57', '58', '59', '62', '63', '64', '65', '66', '67', '68', '69', '70', '71', '72', '74', '75', '76', '77', '78', '79', '80', '81', '82', '83', '84', '85', '86', '87', '88', '89', '90', '91', '92', '93', '94', '95', '96', '97', '98', '99', '100', '101', '102', '103', '104', '105', '106', '107', '108', '109', '110', '111', '112', '113', '114', '115', '116', '117', '118', '119', '120', '121', '122', '123', '124', '125', '126', '127', '128'], 0.9659090909090909, 'H', ''), (['-', '-', '-', '-', '-', '-', '-', '-', '-', '-', '-', '-', '-', '-', '-', '-', '-', '-', '-', '-', '-', '-', '-', '-', '-', '-', '-', '-', '-', '-', '-', '-', '-', '-', '-', '-', '-', '-', '-', '-', '-', '-', '-', '-', '-', '-', '-', '-', '-', '-', '-', '-', '-', '-', '-', '-', '-', '-', '-', '-', '-', '-', '-', '-', '-', '-', '-', '-', '-', '-', '-', '-', '-', '-', '-', '-', '-', '-', '-', '-', '-', '-', '-', '-', '-', '-', '-', '-', '-', '-', '-', '-', '-', '-', '-', '-', '-', '-', '-', '-', '-', '-', '-', '-', '-', '-', '-', '-', '-', '-', '-', '-', '-', '-', '-', '-', '-', '-', '-', '-'], -1.0, '', 'Alignment error; chain not found.'))\n"
     ]
    }
   ],
   "source": [
    "print(pc_annotator.analyze_seq(my_sequence))"
   ]
  },
  {
   "cell_type": "code",
   "execution_count": null,
   "id": "ddeb1e65-7a71-497e-8e3b-0cf17c7f8323",
   "metadata": {},
   "outputs": [],
   "source": []
  },
  {
   "cell_type": "markdown",
   "id": "6086cd93-8971-4fb0-bc3e-416aadc37257",
   "metadata": {},
   "source": [
    "We can also use a SingleChainAnnotator to extract a specific type of chain from paired chain sequences.\n",
    "Here we take the paired chain and run it through light-chain specific and heavy-chain specific\n",
    "SingleChainAnnotators."
   ]
  },
  {
   "cell_type": "code",
   "execution_count": 17,
   "id": "ff3c2b78-2835-413f-8a3c-2bd7303b90d3",
   "metadata": {},
   "outputs": [],
   "source": [
    "sc_heavy = SingleChainAnnotator([\"H\"], scheme = \"imgt\")\n",
    "sc_light = SingleChainAnnotator([\"K\", \"L\"], scheme = \"imgt\")"
   ]
  },
  {
   "cell_type": "code",
   "execution_count": 18,
   "id": "6dc6e188-065c-46a3-b6f3-98ddf0f05ef7",
   "metadata": {},
   "outputs": [
    {
     "name": "stdout",
     "output_type": "stream",
     "text": [
      "(['-', '-', '-', '-', '-', '-', '-', '1', '2', '3', '4', '5', '6', '7', '8', '9', '11', '12', '13', '14', '15', '16', '17', '18', '19', '20', '21', '22', '23', '24', '25', '26', '27', '28', '29', '30', '35', '36', '37', '38', '39', '40', '41', '42', '43', '44', '45', '46', '47', '48', '49', '50', '51', '52', '53', '54', '55', '56', '57', '58', '59', '62', '63', '64', '65', '66', '67', '68', '69', '70', '71', '72', '74', '75', '76', '77', '78', '79', '80', '81', '82', '83', '84', '85', '86', '87', '88', '89', '90', '91', '92', '93', '94', '95', '96', '97', '98', '99', '100', '101', '102', '103', '104', '105', '106', '107', '108', '109', '110', '111', '112', '113', '114', '115', '116', '117', '118', '119', '120', '121', '122', '123', '124', '125', '126', '127', '128', '-', '-', '-', '-', '-', '-', '-', '-', '-', '-', '-', '-', '-', '-', '-', '-', '-', '-', '-', '-', '-', '-', '-', '-', '-', '-', '-', '-', '-', '-', '-', '-', '-', '-', '-', '-', '-', '-', '-', '-', '-', '-', '-', '-', '-', '-', '-', '-', '-', '-', '-', '-', '-', '-', '-', '-', '-', '-', '-', '-', '-', '-', '-', '-', '-', '-', '-', '-', '-', '-', '-', '-', '-', '-', '-', '-', '-', '-', '-', '-', '-', '-', '-', '-', '-', '-', '-', '-', '-', '-', '-', '-', '-', '-', '-', '-', '-', '-', '-', '-', '-', '-', '-', '-', '-', '-', '-', '-', '-', '-', '-', '-', '-', '-', '-'], 0.9659090909090909, 'H', '')\n"
     ]
    }
   ],
   "source": [
    "print(sc_heavy.analyze_seq(paired_chain))"
   ]
  },
  {
   "cell_type": "code",
   "execution_count": 19,
   "id": "86dbac0b-98f6-4b53-87ac-bb3f4551ffad",
   "metadata": {},
   "outputs": [
    {
     "name": "stdout",
     "output_type": "stream",
     "text": [
      "(['-', '-', '-', '-', '-', '-', '-', '-', '-', '-', '-', '-', '-', '-', '-', '-', '-', '-', '-', '-', '-', '-', '-', '-', '-', '-', '-', '-', '-', '-', '-', '-', '-', '-', '-', '-', '-', '-', '-', '-', '-', '-', '-', '-', '-', '-', '-', '-', '-', '-', '-', '-', '-', '-', '-', '-', '-', '-', '-', '-', '-', '-', '-', '-', '-', '-', '-', '-', '-', '-', '-', '-', '-', '-', '-', '-', '-', '-', '-', '-', '-', '-', '-', '-', '-', '-', '-', '-', '-', '-', '-', '-', '-', '-', '-', '-', '-', '-', '-', '-', '-', '-', '-', '-', '-', '-', '-', '-', '-', '-', '-', '-', '-', '-', '-', '-', '-', '-', '-', '-', '-', '-', '-', '-', '-', '-', '-', '-', '-', '-', '-', '-', '-', '-', '-', '1', '2', '3', '4', '5', '6', '7', '8', '9', '10', '11', '12', '13', '14', '15', '16', '17', '18', '19', '20', '21', '22', '23', '24', '25', '26', '27', '28', '29', '36', '37', '38', '39', '40', '41', '42', '43', '44', '45', '46', '47', '48', '49', '50', '51', '52', '53', '54', '55', '56', '57', '65', '66', '67', '68', '69', '70', '71', '72', '74', '75', '76', '77', '78', '79', '80', '83', '84', '85', '86', '87', '88', '89', '90', '91', '92', '93', '94', '95', '96', '97', '98', '99', '100', '101', '102', '103', '104', '105', '106', '107', '108', '109', '114', '115', '116', '117', '118', '119', '120', '121', '122', '123', '124', '125', '126', '127'], 0.945054945054945, 'K', '')\n"
     ]
    }
   ],
   "source": [
    "print(sc_light.analyze_seq(paired_chain))"
   ]
  },
  {
   "cell_type": "code",
   "execution_count": null,
   "id": "91a73747-480c-4dc9-b37a-2e3804d9cf39",
   "metadata": {},
   "outputs": [],
   "source": []
  },
  {
   "cell_type": "markdown",
   "id": "8cdbf358-2773-4acb-bf32-bf9793ff87c9",
   "metadata": {},
   "source": [
    "What if we number a list of sequences, some have more positions than others, and now we\n",
    "want to generate a list that contains all of the positions observed in one or more sequences\n",
    "in the correct order? This is useful if for example you want to write all the sequences to\n",
    "say a csv file where each row is the same length, or convert all your sequences to a fixed-length\n",
    "array for a machine learning task (e.g. as input to a gradient boosted trees algorithm).\n",
    "\n",
    "The easiest way to do this is if your list of sequences is short enough it can fit in memory. In this\n",
    "case, you can just use the build_msa method provided by both Paired and SingleChainAnnotators. If\n",
    "the list of sequences is too large to fit in memory, there's another way you can do it we'll\n",
    "illustrate shortly.\n",
    "\n",
    "When calling build_msa, you can indicate that you want all positions that are expected in a given\n",
    "numbering scheme to be included (True) or only include the ones that are observed in at least\n",
    "one sequence (False). For example, position 10 is expected in IMGT. If no sequence in your dataset\n",
    "has a position 10, passing True would cause all sequences to have a gap here in the resulting MSA,\n",
    "while if False position 10 would not be included."
   ]
  },
  {
   "cell_type": "code",
   "execution_count": 20,
   "id": "0a0c440d-a487-480e-90d1-e92777ebbd46",
   "metadata": {},
   "outputs": [
    {
     "name": "stdout",
     "output_type": "stream",
     "text": [
      "['1', '2', '3', '4', '5', '6', '7', '8', '9', '10', '11', '12', '13', '14', '15', '16', '17', '18', '19', '20', '21', '22', '23', '24', '25', '26', '27', '28', '29', '30', '31', '32', '33', '34', '35', '36', '37', '38', '39', '40', '41', '42', '43', '44', '45', '46', '47', '48', '49', '50', '51', '52', '53', '54', '55', '56', '57', '58', '59', '60', '61', '62', '63', '64', '65', '66', '67', '68', '69', '70', '71', '72', '73', '74', '75', '76', '77', '78', '79', '80', '81', '82', '83', '84', '85', '86', '87', '88', '89', '90', '91', '92', '93', '94', '95', '96', '97', '98', '99', '100', '101', '102', '103', '104', '105', '106', '107', '108', '109', '110', '111', '111A', '112A', '112', '113', '114', '115', '116', '117', '118', '119', '120', '121', '122', '123', '124', '125', '126', '127', '128']\n",
      "['EVQLVQSGA-EVKKPGESLKISCKGSGYSF----TSYWIGWVRQMPGKGLEWMGIIYPG--DSDTRYSPSFQ-GQVTISADKSISTAYLQWSSLKASDTAMYYCARPHYYD-SLDAFDIWGQGTMVTVSS', '-ITLKESGP-TLVKPTQTLTLTCTFSGFSLS--TSGMGVSWIRQPPGKALEWLAHIYWD---DDKRYNPSLK-SRLTITKDTSKNQVVLTMTNMDPVDTATYYCARLYGF---TYGFAYWGQGTLVTVSS', 'EVKLQESGP-GKLQPSQTLSLTCSFSGFSLT--TSGIGVGWIRQPSGKGLEWLAHIWWS---ASKYYNTALK-SRLTISKDTSNNQVFLKIASVDTADTATYYCARAYYGNYGGYYFDYWGQGTTLTVSS']\n"
     ]
    }
   ],
   "source": [
    "my_hchains = sc_annotator.analyze_seqs(additional_sequences)\n",
    "numbering, msa = sc_annotator.build_msa(additional_sequences, my_hchains, True)\n",
    "print(numbering)\n",
    "print(msa)"
   ]
  },
  {
   "cell_type": "markdown",
   "id": "3153cde3-e427-4c5b-b98c-cf60700deef1",
   "metadata": {},
   "source": [
    "Notice that two lists are returned. The first is the position codes (column headings). You could pass these to ``assign_cdr_labels`` if you wanted to find out which regions are inside CDRs. The second is the list of input sequences with blanks added in the right locations so they are all the same length and form an MSA whose column headings are the numbering.\n",
    "\n",
    "Nice, but...what if the list of sequences we have is too large to fit in memory? AntPack makes it easy to deal with this.\n",
    "First, we'll number the sequences, then we'll create a set containing\n",
    "all the positions observed in one or more sequences. AntPack can sort that set so the\n",
    "positions are in the correct order for the numbering scheme we're using. Then we can easily\n",
    "convert that to a dict and use it to process our sequences as illustrated below. The\n",
    "sequences we're using here are all heavy chain; if we had both heavy and light, of course,\n",
    "we might want to handle them separately."
   ]
  },
  {
   "cell_type": "code",
   "execution_count": null,
   "id": "f29da48f-df0b-43c0-954f-b2d81dc2fc5f",
   "metadata": {},
   "outputs": [],
   "source": []
  },
  {
   "cell_type": "code",
   "execution_count": 21,
   "id": "5cd6427a-71a3-4f02-b9a5-b8cec599b0e6",
   "metadata": {},
   "outputs": [
    {
     "name": "stdout",
     "output_type": "stream",
     "text": [
      "['71', '35', '55', '87', '51', '45', '15', '114', '3', '52', '2', '84', '79', '7', '43', '17', '26', '44', '99', '111', '90', '65', '94', '97', '29', '53', '49', '19', '57', '64', '1', '68', '126', '72', '91', '8', '50', '54', '86', '117', '23', '56', '4', '95', '22', '27', '38', '102', '109', '25', '41', '108', '31', '77', '122', '125', '14', '112A', '112', '58', '66', '103', '124', '118', '92', '104', '47', '113', '111A', '120', '70', '21', '20', '127', '106', '121', '5', '123', '48', '37', '105', '13', '119', '16', '12', '63', '39', '74', '88', '46', '89', '98', '96', '82', '6', '75', '83', '101', '116', '85', '62', '34', '115', '11', '42', '36', '69', '100', '80', '93', '59', '67', '81', '78', '9', '76', '128', '107', '28', '40', '24', '110', '30', '18']\n"
     ]
    }
   ],
   "source": [
    "all_observed_position_codes = set()\n",
    "\n",
    "numbering = []\n",
    "\n",
    "for seq in additional_sequences:\n",
    "    results = sc_annotator.analyze_seq(seq)\n",
    "    # We could write the numbering to a temporary file if there are too many sequences to store\n",
    "    #this in memory.\n",
    "    numbering.append(results[0])\n",
    "\n",
    "    if results[3] != \"\":\n",
    "        # If there is an error message indicating a bad alignment, do something here\n",
    "        pass\n",
    "\n",
    "    # Add all position codes to the set\n",
    "    all_observed_position_codes.update(results[0])\n",
    "\n",
    "all_observed_position_codes = list(all_observed_position_codes)\n",
    "\n",
    "print(all_observed_position_codes)"
   ]
  },
  {
   "cell_type": "markdown",
   "id": "f747d0c3-a350-484e-98a4-91f41e09c021",
   "metadata": {},
   "source": [
    "Notice that the list of observed position codes isn't in order. We can fix that with a single call."
   ]
  },
  {
   "cell_type": "code",
   "execution_count": 22,
   "id": "733c9686-5646-4191-b7bb-62a933ebfdce",
   "metadata": {},
   "outputs": [
    {
     "name": "stdout",
     "output_type": "stream",
     "text": [
      "['1', '2', '3', '4', '5', '6', '7', '8', '9', '11', '12', '13', '14', '15', '16', '17', '18', '19', '20', '21', '22', '23', '24', '25', '26', '27', '28', '29', '30', '31', '34', '35', '36', '37', '38', '39', '40', '41', '42', '43', '44', '45', '46', '47', '48', '49', '50', '51', '52', '53', '54', '55', '56', '57', '58', '59', '62', '63', '64', '65', '66', '67', '68', '69', '70', '71', '72', '74', '75', '76', '77', '78', '79', '80', '81', '82', '83', '84', '85', '86', '87', '88', '89', '90', '91', '92', '93', '94', '95', '96', '97', '98', '99', '100', '101', '102', '103', '104', '105', '106', '107', '108', '109', '110', '111', '111A', '112A', '112', '113', '114', '115', '116', '117', '118', '119', '120', '121', '122', '123', '124', '125', '126', '127', '128']\n"
     ]
    }
   ],
   "source": [
    "all_observed_position_codes = sc_annotator.sort_position_codes(all_observed_position_codes)\n",
    "print(all_observed_position_codes)"
   ]
  },
  {
   "cell_type": "markdown",
   "id": "dfd72b8f-3c72-42a5-997c-3d5d10722c3d",
   "metadata": {},
   "source": [
    "And now all the position codes are in order. This makes it easy to turn our sequences into a multiple sequence\n",
    "alignment in a file, or encode them as a fixed-length array as illustrated below:"
   ]
  },
  {
   "cell_type": "code",
   "execution_count": 23,
   "id": "bfd0d155-37c3-4d86-b7c6-6d980322789a",
   "metadata": {},
   "outputs": [
    {
     "name": "stdout",
     "output_type": "stream",
     "text": [
      "['EVQLVQSGAEVKKPGESLKISCKGSGYSF--TSYWIGWVRQMPGKGLEWMGIIYPGDSDTRYSPSFQGQVTISADKSISTAYLQWSSLKASDTAMYYCARPHYYD-SLDAFDIWGQGTMVTVSS', '-ITLKESGPTLVKPTQTLTLTCTFSGFSLSTSGMGVSWIRQPPGKALEWLAHIYWD-DDKRYNPSLKSRLTITKDTSKNQVVLTMTNMDPVDTATYYCARLYGF---TYGFAYWGQGTLVTVSS', 'EVKLQESGPGKLQPSQTLSLTCSFSGFSLTTSGIGVGWIRQPSGKGLEWLAHIWWS-ASKYYNTALKSRLTISKDTSNNQVFLKIASVDTADTATYYCARAYYGNYGGYYFDYWGQGTTLTVSS']\n"
     ]
    }
   ],
   "source": [
    "position_dict = {k:i for i, k in enumerate(all_observed_position_codes)}\n",
    "\n",
    "fixed_length_seqs = []\n",
    "\n",
    "for seq, pos_codes in zip(additional_sequences, numbering):\n",
    "    fixed_length_seq = [\"-\" for code in all_observed_position_codes]\n",
    "\n",
    "    for letter, code in zip(seq, pos_codes):\n",
    "        fixed_length_seq[position_dict[code]] = letter\n",
    "\n",
    "    fixed_length_seqs.append(\"\".join(fixed_length_seq))\n",
    "\n",
    "print(fixed_length_seqs)"
   ]
  },
  {
   "cell_type": "code",
   "execution_count": null,
   "id": "7ae275ad-190e-45c1-a085-acb2ef0c70df",
   "metadata": {},
   "outputs": [],
   "source": []
  },
  {
   "cell_type": "code",
   "execution_count": null,
   "id": "60a5e598-ab63-4e23-926b-c9a5a3d938bc",
   "metadata": {},
   "outputs": [],
   "source": []
  },
  {
   "cell_type": "code",
   "execution_count": null,
   "id": "95634468-aa33-43b1-a046-d8c0e09defde",
   "metadata": {},
   "outputs": [],
   "source": []
  }
 ],
 "metadata": {
  "kernelspec": {
   "display_name": "Python 3 (ipykernel)",
   "language": "python",
   "name": "python3"
  },
  "language_info": {
   "codemirror_mode": {
    "name": "ipython",
    "version": 3
   },
   "file_extension": ".py",
   "mimetype": "text/x-python",
   "name": "python",
   "nbconvert_exporter": "python",
   "pygments_lexer": "ipython3",
   "version": "3.10.12"
  }
 },
 "nbformat": 4,
 "nbformat_minor": 5
}
